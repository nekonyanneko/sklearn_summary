{
 "cells": [
  {
   "cell_type": "markdown",
   "metadata": {},
   "source": [
    "## 目標\n",
    "ワイン178本のデータを使用し、未知のワインの色とプロリン（アミノ酸の一種）の量の2変数から、その未知のワインが3つのブドウ品種のどれから作られたのかを識別する識別器を作成する\n",
    "\n",
    "### 使用するデータ\n",
    " - ラベル：0, 1, 2（ブドウの品種）\n",
    " - データ：178（ワインの数）\n",
    " - 変数\n",
    "    - ワインの色\n",
    "    - ワインに含まれるプロリンの量"
   ]
  },
  {
   "cell_type": "code",
   "execution_count": 1,
   "metadata": {},
   "outputs": [
    {
     "name": "stderr",
     "output_type": "stream",
     "text": [
      "/opt/conda/lib/python3.6/site-packages/sklearn/cross_validation.py:41: DeprecationWarning: This module was deprecated in version 0.18 in favor of the model_selection module into which all the refactored classes and functions are moved. Also note that the interface of the new CV iterators are different from that of this module. This module will be removed in 0.20.\n",
      "  \"This module will be removed in 0.20.\", DeprecationWarning)\n"
     ]
    }
   ],
   "source": [
    "# ライブラリのインポート--------------------------------\n",
    "import numpy as np #numpyという行列などを扱うライブラリを利用\n",
    "import pandas as pd #pandasというデータ分析ライブラリを利用\n",
    "import matplotlib.pyplot as plt #プロット用のライブラリを利用\n",
    "from sklearn import linear_model, metrics, preprocessing, cross_validation #機械学習用のライブラリを利用\n",
    "from mlxtend.plotting import plot_decision_regions #学習結果をプロットする外部ライブラリを利用"
   ]
  },
  {
   "cell_type": "markdown",
   "metadata": {},
   "source": [
    "\n",
    "[Wine dataの詳細](https://archive.ics.uci.edu/ml/datasets/Wine)"
   ]
  },
  {
   "cell_type": "code",
   "execution_count": 2,
   "metadata": {
    "scrolled": true
   },
   "outputs": [
    {
     "data": {
      "text/html": [
       "<div>\n",
       "<style scoped>\n",
       "    .dataframe tbody tr th:only-of-type {\n",
       "        vertical-align: middle;\n",
       "    }\n",
       "\n",
       "    .dataframe tbody tr th {\n",
       "        vertical-align: top;\n",
       "    }\n",
       "\n",
       "    .dataframe thead th {\n",
       "        text-align: right;\n",
       "    }\n",
       "</style>\n",
       "<table border=\"1\" class=\"dataframe\">\n",
       "  <thead>\n",
       "    <tr style=\"text-align: right;\">\n",
       "      <th></th>\n",
       "      <th>class</th>\n",
       "      <th>color</th>\n",
       "      <th>proline</th>\n",
       "    </tr>\n",
       "  </thead>\n",
       "  <tbody>\n",
       "    <tr>\n",
       "      <th>0</th>\n",
       "      <td>1</td>\n",
       "      <td>5.640000</td>\n",
       "      <td>1065</td>\n",
       "    </tr>\n",
       "    <tr>\n",
       "      <th>1</th>\n",
       "      <td>1</td>\n",
       "      <td>4.380000</td>\n",
       "      <td>1050</td>\n",
       "    </tr>\n",
       "    <tr>\n",
       "      <th>2</th>\n",
       "      <td>1</td>\n",
       "      <td>5.680000</td>\n",
       "      <td>1185</td>\n",
       "    </tr>\n",
       "    <tr>\n",
       "      <th>3</th>\n",
       "      <td>1</td>\n",
       "      <td>7.800000</td>\n",
       "      <td>1480</td>\n",
       "    </tr>\n",
       "    <tr>\n",
       "      <th>4</th>\n",
       "      <td>1</td>\n",
       "      <td>4.320000</td>\n",
       "      <td>735</td>\n",
       "    </tr>\n",
       "    <tr>\n",
       "      <th>5</th>\n",
       "      <td>1</td>\n",
       "      <td>6.750000</td>\n",
       "      <td>1450</td>\n",
       "    </tr>\n",
       "    <tr>\n",
       "      <th>6</th>\n",
       "      <td>1</td>\n",
       "      <td>5.250000</td>\n",
       "      <td>1290</td>\n",
       "    </tr>\n",
       "    <tr>\n",
       "      <th>7</th>\n",
       "      <td>1</td>\n",
       "      <td>5.050000</td>\n",
       "      <td>1295</td>\n",
       "    </tr>\n",
       "    <tr>\n",
       "      <th>8</th>\n",
       "      <td>1</td>\n",
       "      <td>5.200000</td>\n",
       "      <td>1045</td>\n",
       "    </tr>\n",
       "    <tr>\n",
       "      <th>9</th>\n",
       "      <td>1</td>\n",
       "      <td>7.220000</td>\n",
       "      <td>1045</td>\n",
       "    </tr>\n",
       "    <tr>\n",
       "      <th>10</th>\n",
       "      <td>1</td>\n",
       "      <td>5.750000</td>\n",
       "      <td>1510</td>\n",
       "    </tr>\n",
       "    <tr>\n",
       "      <th>11</th>\n",
       "      <td>1</td>\n",
       "      <td>5.000000</td>\n",
       "      <td>1280</td>\n",
       "    </tr>\n",
       "    <tr>\n",
       "      <th>12</th>\n",
       "      <td>1</td>\n",
       "      <td>5.600000</td>\n",
       "      <td>1320</td>\n",
       "    </tr>\n",
       "    <tr>\n",
       "      <th>13</th>\n",
       "      <td>1</td>\n",
       "      <td>5.400000</td>\n",
       "      <td>1150</td>\n",
       "    </tr>\n",
       "    <tr>\n",
       "      <th>14</th>\n",
       "      <td>1</td>\n",
       "      <td>7.500000</td>\n",
       "      <td>1547</td>\n",
       "    </tr>\n",
       "    <tr>\n",
       "      <th>15</th>\n",
       "      <td>1</td>\n",
       "      <td>7.300000</td>\n",
       "      <td>1310</td>\n",
       "    </tr>\n",
       "    <tr>\n",
       "      <th>16</th>\n",
       "      <td>1</td>\n",
       "      <td>6.200000</td>\n",
       "      <td>1280</td>\n",
       "    </tr>\n",
       "    <tr>\n",
       "      <th>17</th>\n",
       "      <td>1</td>\n",
       "      <td>6.600000</td>\n",
       "      <td>1130</td>\n",
       "    </tr>\n",
       "    <tr>\n",
       "      <th>18</th>\n",
       "      <td>1</td>\n",
       "      <td>8.700000</td>\n",
       "      <td>1680</td>\n",
       "    </tr>\n",
       "    <tr>\n",
       "      <th>19</th>\n",
       "      <td>1</td>\n",
       "      <td>5.100000</td>\n",
       "      <td>845</td>\n",
       "    </tr>\n",
       "    <tr>\n",
       "      <th>20</th>\n",
       "      <td>1</td>\n",
       "      <td>5.650000</td>\n",
       "      <td>780</td>\n",
       "    </tr>\n",
       "    <tr>\n",
       "      <th>21</th>\n",
       "      <td>1</td>\n",
       "      <td>4.500000</td>\n",
       "      <td>770</td>\n",
       "    </tr>\n",
       "    <tr>\n",
       "      <th>22</th>\n",
       "      <td>1</td>\n",
       "      <td>3.800000</td>\n",
       "      <td>1035</td>\n",
       "    </tr>\n",
       "    <tr>\n",
       "      <th>23</th>\n",
       "      <td>1</td>\n",
       "      <td>3.930000</td>\n",
       "      <td>1015</td>\n",
       "    </tr>\n",
       "    <tr>\n",
       "      <th>24</th>\n",
       "      <td>1</td>\n",
       "      <td>3.520000</td>\n",
       "      <td>845</td>\n",
       "    </tr>\n",
       "    <tr>\n",
       "      <th>25</th>\n",
       "      <td>1</td>\n",
       "      <td>3.580000</td>\n",
       "      <td>830</td>\n",
       "    </tr>\n",
       "    <tr>\n",
       "      <th>26</th>\n",
       "      <td>1</td>\n",
       "      <td>4.800000</td>\n",
       "      <td>1195</td>\n",
       "    </tr>\n",
       "    <tr>\n",
       "      <th>27</th>\n",
       "      <td>1</td>\n",
       "      <td>3.950000</td>\n",
       "      <td>1285</td>\n",
       "    </tr>\n",
       "    <tr>\n",
       "      <th>28</th>\n",
       "      <td>1</td>\n",
       "      <td>4.500000</td>\n",
       "      <td>915</td>\n",
       "    </tr>\n",
       "    <tr>\n",
       "      <th>29</th>\n",
       "      <td>1</td>\n",
       "      <td>4.700000</td>\n",
       "      <td>1035</td>\n",
       "    </tr>\n",
       "    <tr>\n",
       "      <th>...</th>\n",
       "      <td>...</td>\n",
       "      <td>...</td>\n",
       "      <td>...</td>\n",
       "    </tr>\n",
       "    <tr>\n",
       "      <th>148</th>\n",
       "      <td>3</td>\n",
       "      <td>8.420000</td>\n",
       "      <td>650</td>\n",
       "    </tr>\n",
       "    <tr>\n",
       "      <th>149</th>\n",
       "      <td>3</td>\n",
       "      <td>9.400000</td>\n",
       "      <td>550</td>\n",
       "    </tr>\n",
       "    <tr>\n",
       "      <th>150</th>\n",
       "      <td>3</td>\n",
       "      <td>8.600000</td>\n",
       "      <td>500</td>\n",
       "    </tr>\n",
       "    <tr>\n",
       "      <th>151</th>\n",
       "      <td>3</td>\n",
       "      <td>10.800000</td>\n",
       "      <td>480</td>\n",
       "    </tr>\n",
       "    <tr>\n",
       "      <th>152</th>\n",
       "      <td>3</td>\n",
       "      <td>7.100000</td>\n",
       "      <td>425</td>\n",
       "    </tr>\n",
       "    <tr>\n",
       "      <th>153</th>\n",
       "      <td>3</td>\n",
       "      <td>10.520000</td>\n",
       "      <td>675</td>\n",
       "    </tr>\n",
       "    <tr>\n",
       "      <th>154</th>\n",
       "      <td>3</td>\n",
       "      <td>7.600000</td>\n",
       "      <td>640</td>\n",
       "    </tr>\n",
       "    <tr>\n",
       "      <th>155</th>\n",
       "      <td>3</td>\n",
       "      <td>7.900000</td>\n",
       "      <td>725</td>\n",
       "    </tr>\n",
       "    <tr>\n",
       "      <th>156</th>\n",
       "      <td>3</td>\n",
       "      <td>9.010000</td>\n",
       "      <td>480</td>\n",
       "    </tr>\n",
       "    <tr>\n",
       "      <th>157</th>\n",
       "      <td>3</td>\n",
       "      <td>7.500000</td>\n",
       "      <td>880</td>\n",
       "    </tr>\n",
       "    <tr>\n",
       "      <th>158</th>\n",
       "      <td>3</td>\n",
       "      <td>13.000000</td>\n",
       "      <td>660</td>\n",
       "    </tr>\n",
       "    <tr>\n",
       "      <th>159</th>\n",
       "      <td>3</td>\n",
       "      <td>11.750000</td>\n",
       "      <td>620</td>\n",
       "    </tr>\n",
       "    <tr>\n",
       "      <th>160</th>\n",
       "      <td>3</td>\n",
       "      <td>7.650000</td>\n",
       "      <td>520</td>\n",
       "    </tr>\n",
       "    <tr>\n",
       "      <th>161</th>\n",
       "      <td>3</td>\n",
       "      <td>5.880000</td>\n",
       "      <td>680</td>\n",
       "    </tr>\n",
       "    <tr>\n",
       "      <th>162</th>\n",
       "      <td>3</td>\n",
       "      <td>5.580000</td>\n",
       "      <td>570</td>\n",
       "    </tr>\n",
       "    <tr>\n",
       "      <th>163</th>\n",
       "      <td>3</td>\n",
       "      <td>5.280000</td>\n",
       "      <td>675</td>\n",
       "    </tr>\n",
       "    <tr>\n",
       "      <th>164</th>\n",
       "      <td>3</td>\n",
       "      <td>9.580000</td>\n",
       "      <td>615</td>\n",
       "    </tr>\n",
       "    <tr>\n",
       "      <th>165</th>\n",
       "      <td>3</td>\n",
       "      <td>6.620000</td>\n",
       "      <td>520</td>\n",
       "    </tr>\n",
       "    <tr>\n",
       "      <th>166</th>\n",
       "      <td>3</td>\n",
       "      <td>10.680000</td>\n",
       "      <td>695</td>\n",
       "    </tr>\n",
       "    <tr>\n",
       "      <th>167</th>\n",
       "      <td>3</td>\n",
       "      <td>10.260000</td>\n",
       "      <td>685</td>\n",
       "    </tr>\n",
       "    <tr>\n",
       "      <th>168</th>\n",
       "      <td>3</td>\n",
       "      <td>8.660000</td>\n",
       "      <td>750</td>\n",
       "    </tr>\n",
       "    <tr>\n",
       "      <th>169</th>\n",
       "      <td>3</td>\n",
       "      <td>8.500000</td>\n",
       "      <td>630</td>\n",
       "    </tr>\n",
       "    <tr>\n",
       "      <th>170</th>\n",
       "      <td>3</td>\n",
       "      <td>5.500000</td>\n",
       "      <td>510</td>\n",
       "    </tr>\n",
       "    <tr>\n",
       "      <th>171</th>\n",
       "      <td>3</td>\n",
       "      <td>9.899999</td>\n",
       "      <td>470</td>\n",
       "    </tr>\n",
       "    <tr>\n",
       "      <th>172</th>\n",
       "      <td>3</td>\n",
       "      <td>9.700000</td>\n",
       "      <td>660</td>\n",
       "    </tr>\n",
       "    <tr>\n",
       "      <th>173</th>\n",
       "      <td>3</td>\n",
       "      <td>7.700000</td>\n",
       "      <td>740</td>\n",
       "    </tr>\n",
       "    <tr>\n",
       "      <th>174</th>\n",
       "      <td>3</td>\n",
       "      <td>7.300000</td>\n",
       "      <td>750</td>\n",
       "    </tr>\n",
       "    <tr>\n",
       "      <th>175</th>\n",
       "      <td>3</td>\n",
       "      <td>10.200000</td>\n",
       "      <td>835</td>\n",
       "    </tr>\n",
       "    <tr>\n",
       "      <th>176</th>\n",
       "      <td>3</td>\n",
       "      <td>9.300000</td>\n",
       "      <td>840</td>\n",
       "    </tr>\n",
       "    <tr>\n",
       "      <th>177</th>\n",
       "      <td>3</td>\n",
       "      <td>9.200000</td>\n",
       "      <td>560</td>\n",
       "    </tr>\n",
       "  </tbody>\n",
       "</table>\n",
       "<p>178 rows × 3 columns</p>\n",
       "</div>"
      ],
      "text/plain": [
       "     class      color  proline\n",
       "0        1   5.640000     1065\n",
       "1        1   4.380000     1050\n",
       "2        1   5.680000     1185\n",
       "3        1   7.800000     1480\n",
       "4        1   4.320000      735\n",
       "5        1   6.750000     1450\n",
       "6        1   5.250000     1290\n",
       "7        1   5.050000     1295\n",
       "8        1   5.200000     1045\n",
       "9        1   7.220000     1045\n",
       "10       1   5.750000     1510\n",
       "11       1   5.000000     1280\n",
       "12       1   5.600000     1320\n",
       "13       1   5.400000     1150\n",
       "14       1   7.500000     1547\n",
       "15       1   7.300000     1310\n",
       "16       1   6.200000     1280\n",
       "17       1   6.600000     1130\n",
       "18       1   8.700000     1680\n",
       "19       1   5.100000      845\n",
       "20       1   5.650000      780\n",
       "21       1   4.500000      770\n",
       "22       1   3.800000     1035\n",
       "23       1   3.930000     1015\n",
       "24       1   3.520000      845\n",
       "25       1   3.580000      830\n",
       "26       1   4.800000     1195\n",
       "27       1   3.950000     1285\n",
       "28       1   4.500000      915\n",
       "29       1   4.700000     1035\n",
       "..     ...        ...      ...\n",
       "148      3   8.420000      650\n",
       "149      3   9.400000      550\n",
       "150      3   8.600000      500\n",
       "151      3  10.800000      480\n",
       "152      3   7.100000      425\n",
       "153      3  10.520000      675\n",
       "154      3   7.600000      640\n",
       "155      3   7.900000      725\n",
       "156      3   9.010000      480\n",
       "157      3   7.500000      880\n",
       "158      3  13.000000      660\n",
       "159      3  11.750000      620\n",
       "160      3   7.650000      520\n",
       "161      3   5.880000      680\n",
       "162      3   5.580000      570\n",
       "163      3   5.280000      675\n",
       "164      3   9.580000      615\n",
       "165      3   6.620000      520\n",
       "166      3  10.680000      695\n",
       "167      3  10.260000      685\n",
       "168      3   8.660000      750\n",
       "169      3   8.500000      630\n",
       "170      3   5.500000      510\n",
       "171      3   9.899999      470\n",
       "172      3   9.700000      660\n",
       "173      3   7.700000      740\n",
       "174      3   7.300000      750\n",
       "175      3  10.200000      835\n",
       "176      3   9.300000      840\n",
       "177      3   9.200000      560\n",
       "\n",
       "[178 rows x 3 columns]"
      ]
     },
     "execution_count": 2,
     "metadata": {},
     "output_type": "execute_result"
    }
   ],
   "source": [
    "# Wineのデータセットを読み込む--------------------------------\n",
    "df_wine_all = pd.read_csv('https://archive.ics.uci.edu/ml/machine-learning-databases/wine/wine.data', header=None)\n",
    "#品種(0列、1～3)と色（10列）とプロリンの量(13列)を使用する\n",
    "df_wine = df_wine_all[[0,10,13]]\n",
    "df_wine.columns = [u'class', u'color', u'proline']\n",
    "pd.DataFrame(df_wine)  #この行を実行するとデータが見れる"
   ]
  },
  {
   "cell_type": "code",
   "execution_count": 3,
   "metadata": {},
   "outputs": [
    {
     "data": {
      "text/plain": [
       "<function matplotlib.pyplot.show>"
      ]
     },
     "execution_count": 3,
     "metadata": {},
     "output_type": "execute_result"
    },
    {
     "data": {
      "image/png": "[encoded data removed]",
      "text/plain": [
       "<Figure size 432x288 with 1 Axes>"
      ]
     },
     "metadata": {},
     "output_type": "display_data"
    }
   ],
   "source": [
    "# プロットしてみる------------------------------------------------------\n",
    "%matplotlib inline\n",
    " \n",
    "x = df_wine[\"color\"]\n",
    "y = df_wine[\"proline\"]\n",
    "z = df_wine[\"class\"]-1\n",
    "plt.scatter(x,y, c=z)\n",
    "plt.show"
   ]
  },
  {
   "cell_type": "markdown",
   "metadata": {},
   "source": [
    "これから3つのブドウ種類を識別するための、「線形な識別平面（今回は直線）」を求める。\n",
    "\n",
    "今回はクラスが3つあるので、マルチクラスの分類で、“one versus all” (OVA) と呼ばれ、クラス1とその他、クラス2とその他、クラス3とその他を分ける線を求めて分離する。"
   ]
  },
  {
   "cell_type": "markdown",
   "metadata": {},
   "source": [
    "実行前にデータを正規化しておく。"
   ]
  },
  {
   "cell_type": "code",
   "execution_count": 4,
   "metadata": {},
   "outputs": [],
   "source": [
    "# データの整形-------------------------------------------------------\n",
    "X = df_wine[[\"color\",\"proline\"]]\n",
    "sc = preprocessing.StandardScaler()\n",
    "sc.fit(X)\n",
    "X_std = sc.transform(X)"
   ]
  },
  {
   "cell_type": "markdown",
   "metadata": {},
   "source": [
    "線形分離のSGDを用いたClassifierを作成"
   ]
  },
  {
   "cell_type": "code",
   "execution_count": 5,
   "metadata": {},
   "outputs": [],
   "source": [
    "# 機械学習で分類する---------------------------------------------------\n",
    "clf_result = linear_model.SGDClassifier(loss=\"log\", max_iter=1000, shuffle=True) #loss=\"hinge\", loss=\"log\""
   ]
  },
  {
   "cell_type": "markdown",
   "metadata": {},
   "source": [
    "実際の識別器がどの程度の性能を持つのかをK分割交差検証法で検討"
   ]
  },
  {
   "cell_type": "code",
   "execution_count": 6,
   "metadata": {
    "scrolled": true
   },
   "outputs": [
    {
     "name": "stdout",
     "output_type": "stream",
     "text": [
      "平均正解率 =  0.8730650154798762\n",
      "正解率の標準偏差 =  0.09505805489531587\n"
     ]
    }
   ],
   "source": [
    "# K分割交差検証（cross validation）で性能を評価する---------------------\n",
    "scores = cross_validation.cross_val_score(clf_result, X_std, z, cv=10)\n",
    "print(\"平均正解率 = \", scores.mean())\n",
    "print(\"正解率の標準偏差 = \", scores.std())"
   ]
  },
  {
   "cell_type": "markdown",
   "metadata": {},
   "source": [
    "K分割交差検証では視覚的にわかりにくいため、トレーニング・テストデータに分けて実行してみる\n",
    "#### 本来なら\n",
    " - トレーニングデータ(手元にある事前に取得したデータ)\n",
    " - テストデータ(これから観測する未来のデータ)\n",
    "\n",
    "となる"
   ]
  },
  {
   "cell_type": "code",
   "execution_count": 7,
   "metadata": {},
   "outputs": [
    {
     "name": "stdout",
     "output_type": "stream",
     "text": [
      "正答率 =  0.9444444444444444\n"
     ]
    },
    {
     "data": {
      "text/plain": [
       "<matplotlib.axes._subplots.AxesSubplot at 0x7f9bff893940>"
      ]
     },
     "execution_count": 7,
     "metadata": {},
     "output_type": "execute_result"
    },
    {
     "data": {
      "image/png": "[encoded data removed]",
      "text/plain": [
       "<Figure size 432x288 with 1 Axes>"
      ]
     },
     "metadata": {},
     "output_type": "display_data"
    }
   ],
   "source": [
    "#解説 7：トレーニングデータとテストデータに分けて実行してみる------------------\n",
    "X_train, X_test, train_label, test_label=cross_validation.train_test_split(X_std,z, test_size=0.1, random_state=0)\n",
    "clf_result.fit(X_train, train_label)\n",
    "\n",
    "# 正答率を求める\n",
    "pre = clf_result.predict(X_test)\n",
    "ac_score = metrics.accuracy_score(test_label,pre)\n",
    "print(\"正答率 = \",ac_score)\n",
    "\n",
    "# plotする\n",
    "X_train_plot = np.vstack(X_train)\n",
    "train_label_plot = np.hstack(train_label)\n",
    "X_test_plot = np.vstack(X_test)\n",
    "test_label_plot = np.hstack(test_label)\n",
    "plot_decision_regions(X_train_plot, train_label_plot, clf=clf_result, res=0.01) #学習データをプロット"
   ]
  },
  {
   "cell_type": "code",
   "execution_count": 8,
   "metadata": {},
   "outputs": [
    {
     "data": {
      "text/plain": [
       "<matplotlib.axes._subplots.AxesSubplot at 0x7f9bff893f60>"
      ]
     },
     "execution_count": 8,
     "metadata": {},
     "output_type": "execute_result"
    },
    {
     "data": {
      "image/png": "[encoded data removed]",
      "text/plain": [
       "<Figure size 432x288 with 1 Axes>"
      ]
     },
     "metadata": {},
     "output_type": "display_data"
    }
   ],
   "source": [
    "plot_decision_regions(X_test_plot, test_label_plot, clf=clf_result, res=0.01, legend=2) #テストデータをプロット"
   ]
  },
  {
   "cell_type": "code",
   "execution_count": 9,
   "metadata": {},
   "outputs": [
    {
     "name": "stdout",
     "output_type": "stream",
     "text": [
      "[-1.50468275 -3.49192314 -1.55415115]\n",
      "[[-0.30728427  4.88697474]\n",
      " [-6.82644577 -3.68800171]\n",
      " [ 3.81870114 -2.65267638]]\n"
     ]
    }
   ],
   "source": [
    "# おまけ：識別平面の式を手に入れる--------------------------------\n",
    "print(clf_result.intercept_)\n",
    "print(clf_result.coef_ )  #coef[0]*x+coef[1]*y+intercept=0"
   ]
  },
  {
   "cell_type": "markdown",
   "metadata": {},
   "source": [
    "### SGDとは\n",
    " - [SGD:sklearn](http://scikit-learn.org/stable/modules/sgd.html#classification)\n",
    " - [SGD:sklearn](http://scikit-learn.org/stable/modules/generated/sklearn.linear_model.SGDClassifier.html#sklearn.linear_model.SGDClassifier)\n",
    "\n"
   ]
  },
  {
   "cell_type": "markdown",
   "metadata": {},
   "source": [
    "### SGDの概要\n",
    "求めたいのは「識別平面の係数」となるため、まずは適当な初期値の係数で識別平面を作ってみて、テストデータで識別することから始める。\n",
    "\n",
    "最初から完璧に識別はできないため、識別できていない具合を損失関数を導入して計算する。\n",
    "\n",
    "今回の実装の例では”hinge”というhinge関数を使用している。\n",
    "（”log”にすればlog関数で損失を計算し、これはロジスティック回帰をしていることと同じになる）\n",
    "\n",
    "求めたいの識別平面の係数でしたが、そのためにはこの損失関数を最小化すれば良いことになる。\n",
    "\n",
    "#### 損失関数の最小化\n",
    "Stochasticという名前がついている通り、確率的に計算する。\n",
    "ここで示す確率的とは、全てのテストデータを一度に使わずに、データをひとつずつ使用するという意味。\n",
    "\n",
    "テストデータひとつで識別平面の係数を変化させてしまうと、全てのデータを使用した場合に比べて変化の仕方が少しだけ違うかもしれないが、確率的にはほぼ合っているだろうという感覚。\n",
    "\n",
    "##### 勾配変化法\n",
    "Gradient Descent（勾配変化法）を利用して、ひとつのテストデータを使って損失関数を計算する。\n",
    "識別平面の各係数をそれぞれ少しずつ変化させたときに、最も損失関数が小さくなる方向を求める。\n",
    "（正確には損失関数の偏微分の値を解析的に求めてから、テストデータの一つを代入して方向を決定する）。\n",
    "\n",
    "あとは、その方向に少しだけ識別平面の各係数を変化させる。\n",
    "\n",
    "これを繰り返すことで、損失関数が最小となる場所が求まる（正確には極小）。"
   ]
  },
  {
   "cell_type": "markdown",
   "metadata": {},
   "source": [
    "### SGDClassifierのloss\n",
    "loss関数はdefaultで\"hinge\"となっているが、以下のようにデータに対してそれぞれのクラスへの識別確率を求めたい場合、\"log\"を指定する。"
   ]
  },
  {
   "cell_type": "code",
   "execution_count": 10,
   "metadata": {},
   "outputs": [
    {
     "data": {
      "text/plain": [
       "array([[1.97764850e-03, 1.13457959e-01, 8.84564392e-01],\n",
       "       [2.92146225e-02, 9.14778042e-08, 9.70785286e-01]])"
      ]
     },
     "execution_count": 10,
     "metadata": {},
     "output_type": "execute_result"
    }
   ],
   "source": [
    "# 学習したデータが正規化されているため、正規化したデータを入力としなければならない\n",
    "# それぞれのデータに対する各クラスに属する確率\n",
    "clf_result.predict_proba([[ 0.29929955, -0.94545472],[ 2.00795098, -0.27671104]])"
   ]
  }
 ],
 "metadata": {
  "kernelspec": {
   "display_name": "Python 3",
   "language": "python",
   "name": "python3"
  },
  "language_info": {
   "codemirror_mode": {
    "name": "ipython",
    "version": 3
   },
   "file_extension": ".py",
   "mimetype": "text/x-python",
   "name": "python",
   "nbconvert_exporter": "python",
   "pygments_lexer": "ipython3",
   "version": "3.6.3"
  }
 },
 "nbformat": 4,
 "nbformat_minor": 2
}
